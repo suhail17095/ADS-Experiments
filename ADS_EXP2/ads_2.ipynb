{
  "nbformat": 4,
  "nbformat_minor": 0,
  "metadata": {
    "colab": {
      "provenance": []
    },
    "kernelspec": {
      "name": "python3",
      "display_name": "Python 3"
    },
    "language_info": {
      "name": "python"
    }
  },
  "cells": [
    {
      "cell_type": "code",
      "execution_count": 53,
      "metadata": {
        "id": "RXC57AL4t3wb"
      },
      "outputs": [],
      "source": [
        "import pandas as pd\n",
        "import numpy as np\n",
        "from sklearn.linear_model import LinearRegression\n",
        "from sklearn.impute import SimpleImputer\n",
        "from sklearn.impute import KNNImputer\n"
      ]
    },
    {
      "cell_type": "code",
      "source": [
        "df=pd.read_csv(\"/content/drive/MyDrive/Colab Notebooks/ADS2/food_coded.csv\")"
      ],
      "metadata": {
        "id": "P9u_HHDWuX7U"
      },
      "execution_count": 28,
      "outputs": []
    },
    {
      "cell_type": "code",
      "source": [
        "df.head()"
      ],
      "metadata": {
        "colab": {
          "base_uri": "https://localhost:8080/",
          "height": 394
        },
        "id": "WcWiGQkRugJk",
        "outputId": "da55dbf3-662d-4404-87a1-376ecd7d6fbb"
      },
      "execution_count": 29,
      "outputs": [
        {
          "output_type": "execute_result",
          "data": {
            "text/plain": [
              "     GPA  Gender  breakfast  calories_chicken  calories_day  calories_scone  \\\n",
              "0    2.4       2          1               430           NaN           315.0   \n",
              "1  3.654       1          1               610           3.0           420.0   \n",
              "2    3.3       1          1               720           4.0           420.0   \n",
              "3    3.2       1          1               430           3.0           420.0   \n",
              "4    3.5       1          1               720           2.0           420.0   \n",
              "\n",
              "   coffee                      comfort_food        comfort_food_reasons  \\\n",
              "0       1                              none       we dont have comfort    \n",
              "1       2       chocolate, chips, ice cream        Stress, bored, anger   \n",
              "2       2   frozen yogurt, pizza, fast food             stress, sadness   \n",
              "3       2  Pizza, Mac and cheese, ice cream                     Boredom   \n",
              "4       2      Ice cream, chocolate, chips   Stress, boredom, cravings    \n",
              "\n",
              "   comfort_food_reasons_coded  ...  soup  sports  thai_food tortilla_calories  \\\n",
              "0                         9.0  ...   1.0     1.0          1            1165.0   \n",
              "1                         1.0  ...   1.0     1.0          2             725.0   \n",
              "2                         1.0  ...   1.0     2.0          5            1165.0   \n",
              "3                         2.0  ...   1.0     2.0          5             725.0   \n",
              "4                         1.0  ...   1.0     1.0          4             940.0   \n",
              "\n",
              "   turkey_calories  type_sports veggies_day  vitamins  waffle_calories  \\\n",
              "0              345   car racing           5         1             1315   \n",
              "1              690  Basketball            4         2              900   \n",
              "2              500         none           5         1              900   \n",
              "3              690          NaN           3         1             1315   \n",
              "4              500     Softball           4         2              760   \n",
              "\n",
              "                     weight  \n",
              "0                       187  \n",
              "1                       155  \n",
              "2  I'm not answering this.   \n",
              "3             Not sure, 240  \n",
              "4                       190  \n",
              "\n",
              "[5 rows x 61 columns]"
            ],
            "text/html": [
              "\n",
              "  <div id=\"df-7c9b1eb6-705b-4a2b-931e-8ea1dd5224e2\" class=\"colab-df-container\">\n",
              "    <div>\n",
              "<style scoped>\n",
              "    .dataframe tbody tr th:only-of-type {\n",
              "        vertical-align: middle;\n",
              "    }\n",
              "\n",
              "    .dataframe tbody tr th {\n",
              "        vertical-align: top;\n",
              "    }\n",
              "\n",
              "    .dataframe thead th {\n",
              "        text-align: right;\n",
              "    }\n",
              "</style>\n",
              "<table border=\"1\" class=\"dataframe\">\n",
              "  <thead>\n",
              "    <tr style=\"text-align: right;\">\n",
              "      <th></th>\n",
              "      <th>GPA</th>\n",
              "      <th>Gender</th>\n",
              "      <th>breakfast</th>\n",
              "      <th>calories_chicken</th>\n",
              "      <th>calories_day</th>\n",
              "      <th>calories_scone</th>\n",
              "      <th>coffee</th>\n",
              "      <th>comfort_food</th>\n",
              "      <th>comfort_food_reasons</th>\n",
              "      <th>comfort_food_reasons_coded</th>\n",
              "      <th>...</th>\n",
              "      <th>soup</th>\n",
              "      <th>sports</th>\n",
              "      <th>thai_food</th>\n",
              "      <th>tortilla_calories</th>\n",
              "      <th>turkey_calories</th>\n",
              "      <th>type_sports</th>\n",
              "      <th>veggies_day</th>\n",
              "      <th>vitamins</th>\n",
              "      <th>waffle_calories</th>\n",
              "      <th>weight</th>\n",
              "    </tr>\n",
              "  </thead>\n",
              "  <tbody>\n",
              "    <tr>\n",
              "      <th>0</th>\n",
              "      <td>2.4</td>\n",
              "      <td>2</td>\n",
              "      <td>1</td>\n",
              "      <td>430</td>\n",
              "      <td>NaN</td>\n",
              "      <td>315.0</td>\n",
              "      <td>1</td>\n",
              "      <td>none</td>\n",
              "      <td>we dont have comfort</td>\n",
              "      <td>9.0</td>\n",
              "      <td>...</td>\n",
              "      <td>1.0</td>\n",
              "      <td>1.0</td>\n",
              "      <td>1</td>\n",
              "      <td>1165.0</td>\n",
              "      <td>345</td>\n",
              "      <td>car racing</td>\n",
              "      <td>5</td>\n",
              "      <td>1</td>\n",
              "      <td>1315</td>\n",
              "      <td>187</td>\n",
              "    </tr>\n",
              "    <tr>\n",
              "      <th>1</th>\n",
              "      <td>3.654</td>\n",
              "      <td>1</td>\n",
              "      <td>1</td>\n",
              "      <td>610</td>\n",
              "      <td>3.0</td>\n",
              "      <td>420.0</td>\n",
              "      <td>2</td>\n",
              "      <td>chocolate, chips, ice cream</td>\n",
              "      <td>Stress, bored, anger</td>\n",
              "      <td>1.0</td>\n",
              "      <td>...</td>\n",
              "      <td>1.0</td>\n",
              "      <td>1.0</td>\n",
              "      <td>2</td>\n",
              "      <td>725.0</td>\n",
              "      <td>690</td>\n",
              "      <td>Basketball</td>\n",
              "      <td>4</td>\n",
              "      <td>2</td>\n",
              "      <td>900</td>\n",
              "      <td>155</td>\n",
              "    </tr>\n",
              "    <tr>\n",
              "      <th>2</th>\n",
              "      <td>3.3</td>\n",
              "      <td>1</td>\n",
              "      <td>1</td>\n",
              "      <td>720</td>\n",
              "      <td>4.0</td>\n",
              "      <td>420.0</td>\n",
              "      <td>2</td>\n",
              "      <td>frozen yogurt, pizza, fast food</td>\n",
              "      <td>stress, sadness</td>\n",
              "      <td>1.0</td>\n",
              "      <td>...</td>\n",
              "      <td>1.0</td>\n",
              "      <td>2.0</td>\n",
              "      <td>5</td>\n",
              "      <td>1165.0</td>\n",
              "      <td>500</td>\n",
              "      <td>none</td>\n",
              "      <td>5</td>\n",
              "      <td>1</td>\n",
              "      <td>900</td>\n",
              "      <td>I'm not answering this.</td>\n",
              "    </tr>\n",
              "    <tr>\n",
              "      <th>3</th>\n",
              "      <td>3.2</td>\n",
              "      <td>1</td>\n",
              "      <td>1</td>\n",
              "      <td>430</td>\n",
              "      <td>3.0</td>\n",
              "      <td>420.0</td>\n",
              "      <td>2</td>\n",
              "      <td>Pizza, Mac and cheese, ice cream</td>\n",
              "      <td>Boredom</td>\n",
              "      <td>2.0</td>\n",
              "      <td>...</td>\n",
              "      <td>1.0</td>\n",
              "      <td>2.0</td>\n",
              "      <td>5</td>\n",
              "      <td>725.0</td>\n",
              "      <td>690</td>\n",
              "      <td>NaN</td>\n",
              "      <td>3</td>\n",
              "      <td>1</td>\n",
              "      <td>1315</td>\n",
              "      <td>Not sure, 240</td>\n",
              "    </tr>\n",
              "    <tr>\n",
              "      <th>4</th>\n",
              "      <td>3.5</td>\n",
              "      <td>1</td>\n",
              "      <td>1</td>\n",
              "      <td>720</td>\n",
              "      <td>2.0</td>\n",
              "      <td>420.0</td>\n",
              "      <td>2</td>\n",
              "      <td>Ice cream, chocolate, chips</td>\n",
              "      <td>Stress, boredom, cravings</td>\n",
              "      <td>1.0</td>\n",
              "      <td>...</td>\n",
              "      <td>1.0</td>\n",
              "      <td>1.0</td>\n",
              "      <td>4</td>\n",
              "      <td>940.0</td>\n",
              "      <td>500</td>\n",
              "      <td>Softball</td>\n",
              "      <td>4</td>\n",
              "      <td>2</td>\n",
              "      <td>760</td>\n",
              "      <td>190</td>\n",
              "    </tr>\n",
              "  </tbody>\n",
              "</table>\n",
              "<p>5 rows × 61 columns</p>\n",
              "</div>\n",
              "    <div class=\"colab-df-buttons\">\n",
              "\n",
              "  <div class=\"colab-df-container\">\n",
              "    <button class=\"colab-df-convert\" onclick=\"convertToInteractive('df-7c9b1eb6-705b-4a2b-931e-8ea1dd5224e2')\"\n",
              "            title=\"Convert this dataframe to an interactive table.\"\n",
              "            style=\"display:none;\">\n",
              "\n",
              "  <svg xmlns=\"http://www.w3.org/2000/svg\" height=\"24px\" viewBox=\"0 -960 960 960\">\n",
              "    <path d=\"M120-120v-720h720v720H120Zm60-500h600v-160H180v160Zm220 220h160v-160H400v160Zm0 220h160v-160H400v160ZM180-400h160v-160H180v160Zm440 0h160v-160H620v160ZM180-180h160v-160H180v160Zm440 0h160v-160H620v160Z\"/>\n",
              "  </svg>\n",
              "    </button>\n",
              "\n",
              "  <style>\n",
              "    .colab-df-container {\n",
              "      display:flex;\n",
              "      gap: 12px;\n",
              "    }\n",
              "\n",
              "    .colab-df-convert {\n",
              "      background-color: #E8F0FE;\n",
              "      border: none;\n",
              "      border-radius: 50%;\n",
              "      cursor: pointer;\n",
              "      display: none;\n",
              "      fill: #1967D2;\n",
              "      height: 32px;\n",
              "      padding: 0 0 0 0;\n",
              "      width: 32px;\n",
              "    }\n",
              "\n",
              "    .colab-df-convert:hover {\n",
              "      background-color: #E2EBFA;\n",
              "      box-shadow: 0px 1px 2px rgba(60, 64, 67, 0.3), 0px 1px 3px 1px rgba(60, 64, 67, 0.15);\n",
              "      fill: #174EA6;\n",
              "    }\n",
              "\n",
              "    .colab-df-buttons div {\n",
              "      margin-bottom: 4px;\n",
              "    }\n",
              "\n",
              "    [theme=dark] .colab-df-convert {\n",
              "      background-color: #3B4455;\n",
              "      fill: #D2E3FC;\n",
              "    }\n",
              "\n",
              "    [theme=dark] .colab-df-convert:hover {\n",
              "      background-color: #434B5C;\n",
              "      box-shadow: 0px 1px 3px 1px rgba(0, 0, 0, 0.15);\n",
              "      filter: drop-shadow(0px 1px 2px rgba(0, 0, 0, 0.3));\n",
              "      fill: #FFFFFF;\n",
              "    }\n",
              "  </style>\n",
              "\n",
              "    <script>\n",
              "      const buttonEl =\n",
              "        document.querySelector('#df-7c9b1eb6-705b-4a2b-931e-8ea1dd5224e2 button.colab-df-convert');\n",
              "      buttonEl.style.display =\n",
              "        google.colab.kernel.accessAllowed ? 'block' : 'none';\n",
              "\n",
              "      async function convertToInteractive(key) {\n",
              "        const element = document.querySelector('#df-7c9b1eb6-705b-4a2b-931e-8ea1dd5224e2');\n",
              "        const dataTable =\n",
              "          await google.colab.kernel.invokeFunction('convertToInteractive',\n",
              "                                                    [key], {});\n",
              "        if (!dataTable) return;\n",
              "\n",
              "        const docLinkHtml = 'Like what you see? Visit the ' +\n",
              "          '<a target=\"_blank\" href=https://colab.research.google.com/notebooks/data_table.ipynb>data table notebook</a>'\n",
              "          + ' to learn more about interactive tables.';\n",
              "        element.innerHTML = '';\n",
              "        dataTable['output_type'] = 'display_data';\n",
              "        await google.colab.output.renderOutput(dataTable, element);\n",
              "        const docLink = document.createElement('div');\n",
              "        docLink.innerHTML = docLinkHtml;\n",
              "        element.appendChild(docLink);\n",
              "      }\n",
              "    </script>\n",
              "  </div>\n",
              "\n",
              "\n",
              "<div id=\"df-f0b20703-11aa-4886-a73c-6e8f1c0422a3\">\n",
              "  <button class=\"colab-df-quickchart\" onclick=\"quickchart('df-f0b20703-11aa-4886-a73c-6e8f1c0422a3')\"\n",
              "            title=\"Suggest charts\"\n",
              "            style=\"display:none;\">\n",
              "\n",
              "<svg xmlns=\"http://www.w3.org/2000/svg\" height=\"24px\"viewBox=\"0 0 24 24\"\n",
              "     width=\"24px\">\n",
              "    <g>\n",
              "        <path d=\"M19 3H5c-1.1 0-2 .9-2 2v14c0 1.1.9 2 2 2h14c1.1 0 2-.9 2-2V5c0-1.1-.9-2-2-2zM9 17H7v-7h2v7zm4 0h-2V7h2v10zm4 0h-2v-4h2v4z\"/>\n",
              "    </g>\n",
              "</svg>\n",
              "  </button>\n",
              "\n",
              "<style>\n",
              "  .colab-df-quickchart {\n",
              "      --bg-color: #E8F0FE;\n",
              "      --fill-color: #1967D2;\n",
              "      --hover-bg-color: #E2EBFA;\n",
              "      --hover-fill-color: #174EA6;\n",
              "      --disabled-fill-color: #AAA;\n",
              "      --disabled-bg-color: #DDD;\n",
              "  }\n",
              "\n",
              "  [theme=dark] .colab-df-quickchart {\n",
              "      --bg-color: #3B4455;\n",
              "      --fill-color: #D2E3FC;\n",
              "      --hover-bg-color: #434B5C;\n",
              "      --hover-fill-color: #FFFFFF;\n",
              "      --disabled-bg-color: #3B4455;\n",
              "      --disabled-fill-color: #666;\n",
              "  }\n",
              "\n",
              "  .colab-df-quickchart {\n",
              "    background-color: var(--bg-color);\n",
              "    border: none;\n",
              "    border-radius: 50%;\n",
              "    cursor: pointer;\n",
              "    display: none;\n",
              "    fill: var(--fill-color);\n",
              "    height: 32px;\n",
              "    padding: 0;\n",
              "    width: 32px;\n",
              "  }\n",
              "\n",
              "  .colab-df-quickchart:hover {\n",
              "    background-color: var(--hover-bg-color);\n",
              "    box-shadow: 0 1px 2px rgba(60, 64, 67, 0.3), 0 1px 3px 1px rgba(60, 64, 67, 0.15);\n",
              "    fill: var(--button-hover-fill-color);\n",
              "  }\n",
              "\n",
              "  .colab-df-quickchart-complete:disabled,\n",
              "  .colab-df-quickchart-complete:disabled:hover {\n",
              "    background-color: var(--disabled-bg-color);\n",
              "    fill: var(--disabled-fill-color);\n",
              "    box-shadow: none;\n",
              "  }\n",
              "\n",
              "  .colab-df-spinner {\n",
              "    border: 2px solid var(--fill-color);\n",
              "    border-color: transparent;\n",
              "    border-bottom-color: var(--fill-color);\n",
              "    animation:\n",
              "      spin 1s steps(1) infinite;\n",
              "  }\n",
              "\n",
              "  @keyframes spin {\n",
              "    0% {\n",
              "      border-color: transparent;\n",
              "      border-bottom-color: var(--fill-color);\n",
              "      border-left-color: var(--fill-color);\n",
              "    }\n",
              "    20% {\n",
              "      border-color: transparent;\n",
              "      border-left-color: var(--fill-color);\n",
              "      border-top-color: var(--fill-color);\n",
              "    }\n",
              "    30% {\n",
              "      border-color: transparent;\n",
              "      border-left-color: var(--fill-color);\n",
              "      border-top-color: var(--fill-color);\n",
              "      border-right-color: var(--fill-color);\n",
              "    }\n",
              "    40% {\n",
              "      border-color: transparent;\n",
              "      border-right-color: var(--fill-color);\n",
              "      border-top-color: var(--fill-color);\n",
              "    }\n",
              "    60% {\n",
              "      border-color: transparent;\n",
              "      border-right-color: var(--fill-color);\n",
              "    }\n",
              "    80% {\n",
              "      border-color: transparent;\n",
              "      border-right-color: var(--fill-color);\n",
              "      border-bottom-color: var(--fill-color);\n",
              "    }\n",
              "    90% {\n",
              "      border-color: transparent;\n",
              "      border-bottom-color: var(--fill-color);\n",
              "    }\n",
              "  }\n",
              "</style>\n",
              "\n",
              "  <script>\n",
              "    async function quickchart(key) {\n",
              "      const quickchartButtonEl =\n",
              "        document.querySelector('#' + key + ' button');\n",
              "      quickchartButtonEl.disabled = true;  // To prevent multiple clicks.\n",
              "      quickchartButtonEl.classList.add('colab-df-spinner');\n",
              "      try {\n",
              "        const charts = await google.colab.kernel.invokeFunction(\n",
              "            'suggestCharts', [key], {});\n",
              "      } catch (error) {\n",
              "        console.error('Error during call to suggestCharts:', error);\n",
              "      }\n",
              "      quickchartButtonEl.classList.remove('colab-df-spinner');\n",
              "      quickchartButtonEl.classList.add('colab-df-quickchart-complete');\n",
              "    }\n",
              "    (() => {\n",
              "      let quickchartButtonEl =\n",
              "        document.querySelector('#df-f0b20703-11aa-4886-a73c-6e8f1c0422a3 button');\n",
              "      quickchartButtonEl.style.display =\n",
              "        google.colab.kernel.accessAllowed ? 'block' : 'none';\n",
              "    })();\n",
              "  </script>\n",
              "</div>\n",
              "    </div>\n",
              "  </div>\n"
            ],
            "application/vnd.google.colaboratory.intrinsic+json": {
              "type": "dataframe",
              "variable_name": "df"
            }
          },
          "metadata": {},
          "execution_count": 29
        }
      ]
    },
    {
      "cell_type": "code",
      "source": [
        "df.columns"
      ],
      "metadata": {
        "colab": {
          "base_uri": "https://localhost:8080/",
          "height": 0
        },
        "id": "RdGu1UkFwEMj",
        "outputId": "0a050727-f51c-4dd0-e45b-16e8a7a40861"
      },
      "execution_count": 30,
      "outputs": [
        {
          "output_type": "execute_result",
          "data": {
            "text/plain": [
              "Index(['GPA', 'Gender', 'breakfast', 'calories_chicken', 'calories_day',\n",
              "       'calories_scone', 'coffee', 'comfort_food', 'comfort_food_reasons',\n",
              "       'comfort_food_reasons_coded', 'cook', 'comfort_food_reasons_coded.1',\n",
              "       'cuisine', 'diet_current', 'diet_current_coded', 'drink',\n",
              "       'eating_changes', 'eating_changes_coded', 'eating_changes_coded1',\n",
              "       'eating_out', 'employment', 'ethnic_food', 'exercise',\n",
              "       'father_education', 'father_profession', 'fav_cuisine',\n",
              "       'fav_cuisine_coded', 'fav_food', 'food_childhood', 'fries', 'fruit_day',\n",
              "       'grade_level', 'greek_food', 'healthy_feeling', 'healthy_meal',\n",
              "       'ideal_diet', 'ideal_diet_coded', 'income', 'indian_food',\n",
              "       'italian_food', 'life_rewarding', 'marital_status',\n",
              "       'meals_dinner_friend', 'mother_education', 'mother_profession',\n",
              "       'nutritional_check', 'on_off_campus', 'parents_cook', 'pay_meal_out',\n",
              "       'persian_food', 'self_perception_weight', 'soup', 'sports', 'thai_food',\n",
              "       'tortilla_calories', 'turkey_calories', 'type_sports', 'veggies_day',\n",
              "       'vitamins', 'waffle_calories', 'weight'],\n",
              "      dtype='object')"
            ]
          },
          "metadata": {},
          "execution_count": 30
        }
      ]
    },
    {
      "cell_type": "markdown",
      "source": [
        "**Step 1: Removing All Irrelevant Observation**"
      ],
      "metadata": {
        "id": "p_DI6bJi21Ul"
      }
    },
    {
      "cell_type": "code",
      "source": [
        "df=df.drop(['father_education',\"father_profession\",\"marital_status\",\"mother_education\",\"comfort_food_reasons\",\n",
        "            \"comfort_food_reasons_coded\",\"comfort_food_reasons_coded.1\",\n",
        "            'diet_current_coded', 'eating_changes_coded', 'eating_changes_coded1','eating_changes_coded',\n",
        "            'eating_changes_coded1','employment','fav_cuisine','fav_cuisine_coded', 'fav_food',\n",
        "            'food_childhood', 'on_off_campus', 'parents_cook', 'pay_meal_out','self_perception_weight'], axis=1)"
      ],
      "metadata": {
        "id": "N62SRDpsu5FS"
      },
      "execution_count": 31,
      "outputs": []
    },
    {
      "cell_type": "code",
      "source": [
        "col = df.columns\n",
        "print(col)\n",
        "print(len(col))"
      ],
      "metadata": {
        "colab": {
          "base_uri": "https://localhost:8080/",
          "height": 0
        },
        "id": "TXDI4XNcvEmA",
        "outputId": "0aabd7bb-9968-4d19-c7c1-120c11c565ba"
      },
      "execution_count": 32,
      "outputs": [
        {
          "output_type": "stream",
          "name": "stdout",
          "text": [
            "Index(['GPA', 'Gender', 'breakfast', 'calories_chicken', 'calories_day',\n",
            "       'calories_scone', 'coffee', 'comfort_food', 'cook', 'cuisine',\n",
            "       'diet_current', 'drink', 'eating_changes', 'eating_out', 'ethnic_food',\n",
            "       'exercise', 'fries', 'fruit_day', 'grade_level', 'greek_food',\n",
            "       'healthy_feeling', 'healthy_meal', 'ideal_diet', 'ideal_diet_coded',\n",
            "       'income', 'indian_food', 'italian_food', 'life_rewarding',\n",
            "       'meals_dinner_friend', 'mother_profession', 'nutritional_check',\n",
            "       'persian_food', 'soup', 'sports', 'thai_food', 'tortilla_calories',\n",
            "       'turkey_calories', 'type_sports', 'veggies_day', 'vitamins',\n",
            "       'waffle_calories', 'weight'],\n",
            "      dtype='object')\n",
            "42\n"
          ]
        }
      ]
    },
    {
      "cell_type": "markdown",
      "source": [
        "**step 2: Fixing Structural Error by keeping only numbers and float**"
      ],
      "metadata": {
        "id": "SLsybpNn3DcH"
      }
    },
    {
      "cell_type": "code",
      "source": [
        "number_col = []  # Initialize an empty list\n",
        "for x in col:\n",
        "    val = df[x][0]\n",
        "    try:\n",
        "        if isinstance(val, np.int64) or isinstance(val, np.float64):\n",
        "            number_col.append(x)  # Corrected: use .append(x) to add to the list\n",
        "    except:\n",
        "        continue\n",
        "print(number_col)"
      ],
      "metadata": {
        "colab": {
          "base_uri": "https://localhost:8080/",
          "height": 0
        },
        "id": "cxHJT3gFwC4S",
        "outputId": "7d4cb66f-4b42-4394-d375-1fbdcc2091cd"
      },
      "execution_count": 33,
      "outputs": [
        {
          "output_type": "stream",
          "name": "stdout",
          "text": [
            "['Gender', 'breakfast', 'calories_chicken', 'calories_day', 'calories_scone', 'coffee', 'cook', 'cuisine', 'drink', 'eating_out', 'ethnic_food', 'exercise', 'fries', 'fruit_day', 'grade_level', 'greek_food', 'healthy_feeling', 'ideal_diet_coded', 'income', 'indian_food', 'italian_food', 'life_rewarding', 'nutritional_check', 'persian_food', 'soup', 'sports', 'thai_food', 'tortilla_calories', 'turkey_calories', 'veggies_day', 'vitamins', 'waffle_calories']\n"
          ]
        }
      ]
    },
    {
      "cell_type": "code",
      "source": [
        "for x in col:\n",
        "  if x not in number_col:\n",
        "    df=df.drop(x,axis=1)"
      ],
      "metadata": {
        "id": "yM7BM0eQxAyL"
      },
      "execution_count": 34,
      "outputs": []
    },
    {
      "cell_type": "code",
      "source": [
        "df.columns\n",
        "len(df.columns)"
      ],
      "metadata": {
        "colab": {
          "base_uri": "https://localhost:8080/",
          "height": 0
        },
        "id": "jwmSfOxdwnxG",
        "outputId": "b4cb5b8e-24bb-4632-f190-69e13b597ad8"
      },
      "execution_count": 35,
      "outputs": [
        {
          "output_type": "execute_result",
          "data": {
            "text/plain": [
              "32"
            ]
          },
          "metadata": {},
          "execution_count": 35
        }
      ]
    },
    {
      "cell_type": "markdown",
      "source": [
        "**Step 3: Calculating number of missing values in each column .**"
      ],
      "metadata": {
        "id": "vT_cyqfM3OzC"
      }
    },
    {
      "cell_type": "code",
      "source": [
        "null_values=df.isnull().sum()\n",
        "print(null_values)"
      ],
      "metadata": {
        "colab": {
          "base_uri": "https://localhost:8080/",
          "height": 0
        },
        "id": "3wDqCaZJ2gSh",
        "outputId": "1ab459e6-a50f-4aa4-a146-73846a80ffce"
      },
      "execution_count": 36,
      "outputs": [
        {
          "output_type": "stream",
          "name": "stdout",
          "text": [
            "Gender                0\n",
            "breakfast             0\n",
            "calories_chicken      0\n",
            "calories_day         19\n",
            "calories_scone        1\n",
            "coffee                0\n",
            "cook                  3\n",
            "cuisine              17\n",
            "drink                 2\n",
            "eating_out            0\n",
            "ethnic_food           0\n",
            "exercise             13\n",
            "fries                 0\n",
            "fruit_day             0\n",
            "grade_level           0\n",
            "greek_food            0\n",
            "healthy_feeling       0\n",
            "ideal_diet_coded      0\n",
            "income                1\n",
            "indian_food           0\n",
            "italian_food          0\n",
            "life_rewarding        1\n",
            "nutritional_check     0\n",
            "persian_food          1\n",
            "soup                  1\n",
            "sports                2\n",
            "thai_food             0\n",
            "tortilla_calories     1\n",
            "turkey_calories       0\n",
            "veggies_day           0\n",
            "vitamins              0\n",
            "waffle_calories       0\n",
            "dtype: int64\n"
          ]
        }
      ]
    },
    {
      "cell_type": "code",
      "source": [
        "col=df.columns\n",
        "col_to_clean=[]\n",
        "for x in col:\n",
        "  if null_values[x] > 0:\n",
        "    col_to_clean.append(x)\n",
        "\n",
        "print(col_to_clean)"
      ],
      "metadata": {
        "colab": {
          "base_uri": "https://localhost:8080/",
          "height": 0
        },
        "id": "NpUfusYn3d0m",
        "outputId": "d8fb61c6-a5bd-4ce4-8c20-471a659e24cf"
      },
      "execution_count": 37,
      "outputs": [
        {
          "output_type": "stream",
          "name": "stdout",
          "text": [
            "['calories_day', 'calories_scone', 'cook', 'cuisine', 'drink', 'exercise', 'income', 'life_rewarding', 'persian_food', 'soup', 'sports', 'tortilla_calories']\n"
          ]
        }
      ]
    },
    {
      "cell_type": "markdown",
      "source": [
        "**Step 4: Handle missing data(Data Imputation)**\n"
      ],
      "metadata": {
        "id": "6GcD6-A54eUD"
      }
    },
    {
      "cell_type": "markdown",
      "source": [
        "a) Mean and Median"
      ],
      "metadata": {
        "id": "YmRnkpbQ4mx-"
      }
    },
    {
      "cell_type": "code",
      "source": [
        "# For Mean\n",
        "df_mean=df.copy()\n",
        "for x in col_to_clean:\n",
        "  mean_value=df[x].mean()\n",
        "  df_mean[x].fillna(mean_value,inplace=True)\n",
        "\n",
        "# For Median\n",
        "df_median = df.copy()\n",
        "for x in col_to_clean:\n",
        "    median_value = df[x].median()\n",
        "    df_median[x].fillna(median_value, inplace=True)"
      ],
      "metadata": {
        "id": "uoVDM_kN6P01"
      },
      "execution_count": 40,
      "outputs": []
    },
    {
      "cell_type": "markdown",
      "source": [
        "b) Minimum and Maximum Value"
      ],
      "metadata": {
        "id": "2QOdYvkx5zV-"
      }
    },
    {
      "cell_type": "code",
      "source": [
        "# For Maximum Value\n",
        "df_max = df.copy()\n",
        "for x in col_to_clean:\n",
        "    max_value = df[x].max()\n",
        "    df_max[x].fillna(max_value, inplace=True)\n",
        "\n",
        "# For Minimum Value\n",
        "df_min = df.copy()\n",
        "for x in col_to_clean:\n",
        "    min_value = df[x].min()\n",
        "    df_min[x].fillna(min_value, inplace=True)\n"
      ],
      "metadata": {
        "id": "uUwP8DOp60ng"
      },
      "execution_count": 41,
      "outputs": []
    },
    {
      "cell_type": "markdown",
      "source": [
        "c) Most Frequent Value"
      ],
      "metadata": {
        "id": "blBEU2js59Xb"
      }
    },
    {
      "cell_type": "code",
      "source": [
        "# For Most Frequent Value\n",
        "df_mode = df.copy()\n",
        "for x in col_to_clean:\n",
        "    mode_value = df[x].mode()[0]\n",
        "    df_mode[x].fillna(mode_value, inplace=True)"
      ],
      "metadata": {
        "id": "o76vv36z35ha"
      },
      "execution_count": 42,
      "outputs": []
    },
    {
      "cell_type": "markdown",
      "source": [
        "d) Fixed Value"
      ],
      "metadata": {
        "id": "LUPnk0266GeA"
      }
    },
    {
      "cell_type": "code",
      "source": [
        "# For Fixed Value, let's say the fixed value is 0\n",
        "df_fixed = df.copy()\n",
        "for x in col_to_clean:\n",
        "    df_fixed[x].fillna(0, inplace=True)"
      ],
      "metadata": {
        "id": "DDJj44No6IQZ"
      },
      "execution_count": 43,
      "outputs": []
    },
    {
      "cell_type": "markdown",
      "source": [
        "**e) Next Value**"
      ],
      "metadata": {
        "id": "xp9m5uAC63Us"
      }
    },
    {
      "cell_type": "code",
      "source": [
        "# For Next Value\n",
        "df_next = df.copy()\n",
        "for x in col_to_clean:\n",
        "    df_next[x].fillna(method='bfill', inplace=True)\n"
      ],
      "metadata": {
        "id": "iSDC4HH-6J2D"
      },
      "execution_count": 45,
      "outputs": []
    },
    {
      "cell_type": "markdown",
      "source": [
        "**f) K Nearest Neighbour**"
      ],
      "metadata": {
        "id": "tCD4Mc1R7bCm"
      }
    },
    {
      "cell_type": "code",
      "source": [
        "# Create the imputer\n",
        "knn_imputer = KNNImputer(n_neighbors=3)\n",
        "# Apply the imputer to the DataFrame\n",
        "df_knn = df.copy()\n",
        "df_knn[col_to_clean] = knn_imputer.fit_transform(df[col_to_clean])\n"
      ],
      "metadata": {
        "id": "njdqh00C6bWi"
      },
      "execution_count": 46,
      "outputs": []
    },
    {
      "cell_type": "markdown",
      "source": [
        "**g) Missing Value Prediction**"
      ],
      "metadata": {
        "id": "5aavQdpj76yz"
      }
    },
    {
      "cell_type": "code",
      "source": [
        "df_mvp = df.copy()\n",
        "for col in col_to_clean:\n",
        "    # Split the data into training and test sets\n",
        "    train = df_mvp[df_mvp[col].notna()]\n",
        "    test = df_mvp[df_mvp[col].isna()]\n",
        "    # Check if there are missing values to impute\n",
        "    if test.shape[0] == 0:\n",
        "        continue\n",
        "    # Define the target and features\n",
        "    y_train = train[col]\n",
        "    X_train = train.drop(col, axis=1)\n",
        "    X_test = test.drop(col, axis=1)\n",
        "    # Create an imputer for filling missing values in the features\n",
        "    imputer = SimpleImputer(strategy='mean')\n",
        "    # Fill missing values in the features\n",
        "    X_train = imputer.fit_transform(X_train)\n",
        "    X_test = imputer.transform(X_test)\n",
        "    # Train the model\n",
        "    model = LinearRegression()\n",
        "    model.fit(X_train, y_train)\n",
        "    # Predict the missing values\n",
        "    df_mvp.loc[df_mvp[col].isna(), col] = model.predict(X_test)\n"
      ],
      "metadata": {
        "id": "UpwS1Tgk7gfT"
      },
      "execution_count": 48,
      "outputs": []
    },
    {
      "cell_type": "markdown",
      "source": [
        "**Creating Function to check if there is any null values in these data frames. It would return true if there is null values else false.**"
      ],
      "metadata": {
        "id": "uSs5lh2l9Cgn"
      }
    },
    {
      "cell_type": "code",
      "source": [
        "def check_null(df):\n",
        "    return df.isnull().any().any()"
      ],
      "metadata": {
        "id": "UCfrJ0ZY8BSr"
      },
      "execution_count": 50,
      "outputs": []
    },
    {
      "cell_type": "code",
      "source": [
        "data_frames=[df_mean,df_median,df_max,df_min,df_fixed,df_knn,df_mvp]\n",
        "result=[]\n",
        "for d in data_frames:\n",
        "  result.append(check_null(d))\n",
        "result"
      ],
      "metadata": {
        "colab": {
          "base_uri": "https://localhost:8080/",
          "height": 0
        },
        "id": "QOQ3B-m59Q2I",
        "outputId": "6034a0a7-8589-46bb-b7c9-72401cd19952"
      },
      "execution_count": 52,
      "outputs": [
        {
          "output_type": "execute_result",
          "data": {
            "text/plain": [
              "[False, False, False, False, False, False, False]"
            ]
          },
          "metadata": {},
          "execution_count": 52
        }
      ]
    },
    {
      "cell_type": "markdown",
      "source": [
        "**Since we are getting false for every data frame . Hence, Data imputation is done successfully.**"
      ],
      "metadata": {
        "id": "QLewFe3895i_"
      }
    }
  ]
}